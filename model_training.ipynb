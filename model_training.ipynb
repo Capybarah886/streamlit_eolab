{
 "cells": [
  {
   "cell_type": "code",
   "execution_count": 1,
   "metadata": {},
   "outputs": [],
   "source": [
    "import pandas as pd\n",
    "import numpy as np\n",
    "import os\n"
   ]
  },
  {
   "cell_type": "code",
   "execution_count": 2,
   "metadata": {},
   "outputs": [
    {
     "data": {
      "text/html": [
       "<div>\n",
       "<style scoped>\n",
       "    .dataframe tbody tr th:only-of-type {\n",
       "        vertical-align: middle;\n",
       "    }\n",
       "\n",
       "    .dataframe tbody tr th {\n",
       "        vertical-align: top;\n",
       "    }\n",
       "\n",
       "    .dataframe thead th {\n",
       "        text-align: right;\n",
       "    }\n",
       "</style>\n",
       "<table border=\"1\" class=\"dataframe\">\n",
       "  <thead>\n",
       "    <tr style=\"text-align: right;\">\n",
       "      <th></th>\n",
       "      <th>swim_id</th>\n",
       "      <th>stroke</th>\n",
       "    </tr>\n",
       "  </thead>\n",
       "  <tbody>\n",
       "    <tr>\n",
       "      <th>0</th>\n",
       "      <td>eca387ee-efe3-4b52-b4ba-2ad59f9b3c56</td>\n",
       "      <td>Freestyle</td>\n",
       "    </tr>\n",
       "    <tr>\n",
       "      <th>1</th>\n",
       "      <td>ecc649a0-e9b7-4d89-bdb4-5446913720bf</td>\n",
       "      <td>Freestyle</td>\n",
       "    </tr>\n",
       "    <tr>\n",
       "      <th>2</th>\n",
       "      <td>9c3a0f82-003d-43d7-975a-0e63c2c59657</td>\n",
       "      <td>Freestyle</td>\n",
       "    </tr>\n",
       "    <tr>\n",
       "      <th>3</th>\n",
       "      <td>3b3dff00-08d4-4e19-8b56-ac95be0d755e</td>\n",
       "      <td>Freestyle</td>\n",
       "    </tr>\n",
       "    <tr>\n",
       "      <th>4</th>\n",
       "      <td>f2c736be-8c1a-4016-9cc9-d7875b40e996</td>\n",
       "      <td>BackStroke</td>\n",
       "    </tr>\n",
       "  </tbody>\n",
       "</table>\n",
       "</div>"
      ],
      "text/plain": [
       "                                swim_id      stroke\n",
       "0  eca387ee-efe3-4b52-b4ba-2ad59f9b3c56   Freestyle\n",
       "1  ecc649a0-e9b7-4d89-bdb4-5446913720bf   Freestyle\n",
       "2  9c3a0f82-003d-43d7-975a-0e63c2c59657   Freestyle\n",
       "3  3b3dff00-08d4-4e19-8b56-ac95be0d755e   Freestyle\n",
       "4  f2c736be-8c1a-4016-9cc9-d7875b40e996  BackStroke"
      ]
     },
     "execution_count": 2,
     "metadata": {},
     "output_type": "execute_result"
    }
   ],
   "source": [
    "labels=pd.read_csv('labels.csv')\n",
    "labels.head()"
   ]
  },
  {
   "cell_type": "code",
   "execution_count": 6,
   "metadata": {},
   "outputs": [
    {
     "data": {
      "text/plain": [
       "['./combined_2/0057f3aa-a1ec-4d6a-9776-846f6e8fd0e4.csv',\n",
       " './combined_2/00798875-f5bc-4ffe-a4f6-b8c38ffb6a6f.csv',\n",
       " './combined_2/00d6b11e-bbcb-4e5b-aadf-5dc7212fd92e.csv',\n",
       " './combined_2/01082af2-c81b-407a-a7cd-3cbd58ef860f.csv',\n",
       " './combined_2/01189fe4-b286-480e-a724-8f2ca82e2a2f.csv',\n",
       " './combined_2/01d1cd74-b3ee-472f-bf85-b84318451509.csv',\n",
       " './combined_2/0289f9c2-ef67-45cb-9793-e1c5846970d7.csv',\n",
       " './combined_2/02b8a1b3-6a99-4a1e-98d5-dbbc3f1898b6.csv',\n",
       " './combined_2/0370272b-09b1-40d4-8d72-6c86765b3d4e.csv',\n",
       " './combined_2/03c79948-9b13-47b7-aba4-84619cd8b24b.csv']"
      ]
     },
     "execution_count": 6,
     "metadata": {},
     "output_type": "execute_result"
    }
   ],
   "source": [
    "dirs='./combined_2'\n",
    "files=os.listdir(dirs)\n",
    "files=[dirs+'/'+f for f in files\n",
    "       if f.endswith('.csv')]\n",
    "files[:10]"
   ]
  },
  {
   "cell_type": "code",
   "execution_count": 5,
   "metadata": {},
   "outputs": [
    {
     "data": {
      "text/plain": [
       "Index(['timestamp_1', 'fPressureFront_1', 'fPressureSide_1',\n",
       "       'acceleration.x_1', 'acceleration.y_1', 'acceleration.z_1',\n",
       "       'quaternion.i_1', 'quaternion.j_1', 'quaternion.k_1',\n",
       "       'quaternion.real_1', 'timestamp_2', 'fPressureFront_2',\n",
       "       'fPressureSide_2', 'acceleration.x_2', 'acceleration.y_2',\n",
       "       'acceleration.z_2', 'quaternion.i_2', 'quaternion.j_2',\n",
       "       'quaternion.k_2', 'quaternion.real_2'],\n",
       "      dtype='object')"
      ]
     },
     "execution_count": 5,
     "metadata": {},
     "output_type": "execute_result"
    }
   ],
   "source": [
    "df = pd.read_csv( './combined_2/fe4b58da-4dff-4bad-a37b-75f639b13052.csv')\n",
    "df.columns"
   ]
  },
  {
   "cell_type": "code",
   "execution_count": null,
   "metadata": {},
   "outputs": [],
   "source": [
    "\n",
    "label_lst = []\n",
    "features=[ 'fPressureFront_1', 'fPressureSide_1',\n",
    "       'acceleration.x_1', 'acceleration.y_1', 'acceleration.z_1',\n",
    "       'quaternion.i_1', 'quaternion.j_1', 'quaternion.k_1',\n",
    "        'fPressureFront_2',\n",
    "       'fPressureSide_2', 'acceleration.x_2', 'acceleration.y_2',\n",
    "       'acceleration.z_2', 'quaternion.i_2', 'quaternion.j_2',\n",
    "       'quaternion.k_2' ]\n",
    "for file in files:\n",
    "    df = pd.read_csv(file)\n",
    "    df_selected = df[features]\n",
    "    nums = np.array(df_selected)\n",
    "    print(nums.shape)\n",
    "    for i in range(200, len(nums)-200, 100):\n",
    "        data_lst.append(nums[i: i+100,:])\n",
    "        if \"115\" in file:\n",
    "            label_lst.append(0)\n",
    "        elif \"116\" in file:\n",
    "            label_lst.append(1)\n",
    "        elif \"117\" in file:\n",
    "            label_lst.append(2)\n",
    "        elif \"118\" in file:\n",
    "            label_lst.append(3)\n",
    "        elif \"119\" in file:\n",
    "            label_lst.append(3)"
   ]
  }
 ],
 "metadata": {
  "kernelspec": {
   "display_name": "Python 3",
   "language": "python",
   "name": "python3"
  },
  "language_info": {
   "codemirror_mode": {
    "name": "ipython",
    "version": 3
   },
   "file_extension": ".py",
   "mimetype": "text/x-python",
   "name": "python",
   "nbconvert_exporter": "python",
   "pygments_lexer": "ipython3",
   "version": "3.12.4"
  }
 },
 "nbformat": 4,
 "nbformat_minor": 2
}
